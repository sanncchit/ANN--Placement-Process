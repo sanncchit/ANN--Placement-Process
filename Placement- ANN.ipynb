{
 "cells": [
  {
   "cell_type": "code",
   "execution_count": 1,
   "id": "3575dfa0",
   "metadata": {},
   "outputs": [],
   "source": [
    "import numpy as np\n",
    "import pandas as pd\n",
    "import tensorflow as tf"
   ]
  },
  {
   "cell_type": "code",
   "execution_count": 2,
   "id": "9575f3bf",
   "metadata": {},
   "outputs": [
    {
     "data": {
      "text/plain": [
       "'2.13.0'"
      ]
     },
     "execution_count": 2,
     "metadata": {},
     "output_type": "execute_result"
    }
   ],
   "source": [
    "tf.__version__"
   ]
  },
  {
   "cell_type": "code",
   "execution_count": 3,
   "id": "73ec2305",
   "metadata": {},
   "outputs": [
    {
     "data": {
      "text/html": [
       "<div>\n",
       "<style scoped>\n",
       "    .dataframe tbody tr th:only-of-type {\n",
       "        vertical-align: middle;\n",
       "    }\n",
       "\n",
       "    .dataframe tbody tr th {\n",
       "        vertical-align: top;\n",
       "    }\n",
       "\n",
       "    .dataframe thead th {\n",
       "        text-align: right;\n",
       "    }\n",
       "</style>\n",
       "<table border=\"1\" class=\"dataframe\">\n",
       "  <thead>\n",
       "    <tr style=\"text-align: right;\">\n",
       "      <th></th>\n",
       "      <th>Unnamed: 0</th>\n",
       "      <th>cgpa</th>\n",
       "      <th>iq</th>\n",
       "      <th>placement</th>\n",
       "    </tr>\n",
       "  </thead>\n",
       "  <tbody>\n",
       "    <tr>\n",
       "      <th>0</th>\n",
       "      <td>0</td>\n",
       "      <td>6.8</td>\n",
       "      <td>123.0</td>\n",
       "      <td>1</td>\n",
       "    </tr>\n",
       "    <tr>\n",
       "      <th>1</th>\n",
       "      <td>1</td>\n",
       "      <td>5.9</td>\n",
       "      <td>106.0</td>\n",
       "      <td>0</td>\n",
       "    </tr>\n",
       "    <tr>\n",
       "      <th>2</th>\n",
       "      <td>2</td>\n",
       "      <td>5.3</td>\n",
       "      <td>121.0</td>\n",
       "      <td>0</td>\n",
       "    </tr>\n",
       "    <tr>\n",
       "      <th>3</th>\n",
       "      <td>3</td>\n",
       "      <td>7.4</td>\n",
       "      <td>132.0</td>\n",
       "      <td>1</td>\n",
       "    </tr>\n",
       "    <tr>\n",
       "      <th>4</th>\n",
       "      <td>4</td>\n",
       "      <td>5.8</td>\n",
       "      <td>142.0</td>\n",
       "      <td>0</td>\n",
       "    </tr>\n",
       "  </tbody>\n",
       "</table>\n",
       "</div>"
      ],
      "text/plain": [
       "   Unnamed: 0  cgpa     iq  placement\n",
       "0           0   6.8  123.0          1\n",
       "1           1   5.9  106.0          0\n",
       "2           2   5.3  121.0          0\n",
       "3           3   7.4  132.0          1\n",
       "4           4   5.8  142.0          0"
      ]
     },
     "execution_count": 3,
     "metadata": {},
     "output_type": "execute_result"
    }
   ],
   "source": [
    "df = pd.read_csv('placement-dataset.csv')\n",
    "df.head()"
   ]
  },
  {
   "cell_type": "code",
   "execution_count": 4,
   "id": "0df212af",
   "metadata": {},
   "outputs": [
    {
     "data": {
      "text/plain": [
       "(100, 4)"
      ]
     },
     "execution_count": 4,
     "metadata": {},
     "output_type": "execute_result"
    }
   ],
   "source": [
    "df.shape"
   ]
  },
  {
   "cell_type": "code",
   "execution_count": 5,
   "id": "509f875d",
   "metadata": {},
   "outputs": [
    {
     "data": {
      "text/plain": [
       "Unnamed: 0      int64\n",
       "cgpa          float64\n",
       "iq            float64\n",
       "placement       int64\n",
       "dtype: object"
      ]
     },
     "execution_count": 5,
     "metadata": {},
     "output_type": "execute_result"
    }
   ],
   "source": [
    "df.dtypes"
   ]
  },
  {
   "cell_type": "code",
   "execution_count": 6,
   "id": "751ef900",
   "metadata": {},
   "outputs": [
    {
     "data": {
      "text/plain": [
       "array([ 0,  1,  2,  3,  4,  5,  6,  7,  8,  9, 10, 11, 12, 13, 14, 15, 16,\n",
       "       17, 18, 19, 20, 21, 22, 23, 24, 25, 26, 27, 28, 29, 30, 31, 32, 33,\n",
       "       34, 35, 36, 37, 38, 39, 40, 41, 42, 43, 44, 45, 46, 47, 48, 49, 50,\n",
       "       51, 52, 53, 54, 55, 56, 57, 58, 59, 60, 61, 62, 63, 64, 65, 66, 67,\n",
       "       68, 69, 70, 71, 72, 73, 74, 75, 76, 77, 78, 79, 80, 81, 82, 83, 84,\n",
       "       85, 86, 87, 88, 89, 90, 91, 92, 93, 94, 95, 96, 97, 98, 99],\n",
       "      dtype=int64)"
      ]
     },
     "execution_count": 6,
     "metadata": {},
     "output_type": "execute_result"
    }
   ],
   "source": [
    "df['Unnamed: 0'].unique()"
   ]
  },
  {
   "cell_type": "code",
   "execution_count": 7,
   "id": "29695045",
   "metadata": {},
   "outputs": [
    {
     "name": "stdout",
     "output_type": "stream",
     "text": [
      "<class 'pandas.core.frame.DataFrame'>\n",
      "RangeIndex: 100 entries, 0 to 99\n",
      "Data columns (total 4 columns):\n",
      " #   Column      Non-Null Count  Dtype  \n",
      "---  ------      --------------  -----  \n",
      " 0   Unnamed: 0  100 non-null    int64  \n",
      " 1   cgpa        100 non-null    float64\n",
      " 2   iq          100 non-null    float64\n",
      " 3   placement   100 non-null    int64  \n",
      "dtypes: float64(2), int64(2)\n",
      "memory usage: 3.2 KB\n"
     ]
    }
   ],
   "source": [
    "df.info()"
   ]
  },
  {
   "cell_type": "code",
   "execution_count": 8,
   "id": "e286843b",
   "metadata": {},
   "outputs": [],
   "source": [
    "df = df.rename(columns= {'Unnamed: 0':'Student_id'})"
   ]
  },
  {
   "cell_type": "code",
   "execution_count": 9,
   "id": "d99b7cc4",
   "metadata": {},
   "outputs": [
    {
     "data": {
      "text/plain": [
       "0     False\n",
       "1     False\n",
       "2     False\n",
       "3     False\n",
       "4     False\n",
       "      ...  \n",
       "95    False\n",
       "96    False\n",
       "97    False\n",
       "98    False\n",
       "99    False\n",
       "Length: 100, dtype: bool"
      ]
     },
     "execution_count": 9,
     "metadata": {},
     "output_type": "execute_result"
    }
   ],
   "source": [
    "df.duplicated()"
   ]
  },
  {
   "cell_type": "code",
   "execution_count": 10,
   "id": "03d2b69d",
   "metadata": {},
   "outputs": [],
   "source": [
    "df = df.drop('Student_id', axis= 1)"
   ]
  },
  {
   "cell_type": "code",
   "execution_count": 11,
   "id": "a2d6ca91",
   "metadata": {},
   "outputs": [],
   "source": [
    "X = df.iloc[:, 0:-1].values\n",
    "y = df.iloc[:, -1].values"
   ]
  },
  {
   "cell_type": "code",
   "execution_count": 12,
   "id": "9b350082",
   "metadata": {},
   "outputs": [
    {
     "data": {
      "text/plain": [
       "array([[  6.8, 123. ],\n",
       "       [  5.9, 106. ],\n",
       "       [  5.3, 121. ],\n",
       "       [  7.4, 132. ],\n",
       "       [  5.8, 142. ],\n",
       "       [  7.1,  48. ],\n",
       "       [  5.7, 143. ],\n",
       "       [  5. ,  63. ],\n",
       "       [  6.1, 156. ],\n",
       "       [  5.1,  66. ],\n",
       "       [  6. ,  45. ],\n",
       "       [  6.9, 138. ],\n",
       "       [  5.4, 139. ],\n",
       "       [  6.4, 116. ],\n",
       "       [  6.1, 103. ],\n",
       "       [  5.1, 176. ],\n",
       "       [  5.2, 224. ],\n",
       "       [  3.3, 183. ],\n",
       "       [  4. , 100. ],\n",
       "       [  5.2, 132. ],\n",
       "       [  6.6, 120. ],\n",
       "       [  7.1, 151. ],\n",
       "       [  4.9, 120. ],\n",
       "       [  4.7,  87. ],\n",
       "       [  4.7, 121. ],\n",
       "       [  5. ,  91. ],\n",
       "       [  7. , 199. ],\n",
       "       [  6. , 124. ],\n",
       "       [  5.2,  90. ],\n",
       "       [  7. , 112. ],\n",
       "       [  7.6, 128. ],\n",
       "       [  3.9, 109. ],\n",
       "       [  7. , 139. ],\n",
       "       [  6. , 149. ],\n",
       "       [  4.8, 163. ],\n",
       "       [  6.8,  90. ],\n",
       "       [  5.7, 140. ],\n",
       "       [  8.1, 149. ],\n",
       "       [  6.5, 160. ],\n",
       "       [  4.6, 146. ],\n",
       "       [  4.9, 134. ],\n",
       "       [  5.4, 114. ],\n",
       "       [  7.6,  89. ],\n",
       "       [  6.8, 141. ],\n",
       "       [  7.5,  61. ],\n",
       "       [  6. ,  66. ],\n",
       "       [  5.3, 114. ],\n",
       "       [  5.2, 161. ],\n",
       "       [  6.6, 138. ],\n",
       "       [  5.4, 135. ],\n",
       "       [  3.5, 233. ],\n",
       "       [  4.8, 141. ],\n",
       "       [  7. , 175. ],\n",
       "       [  8.3, 168. ],\n",
       "       [  6.4, 141. ],\n",
       "       [  7.8, 114. ],\n",
       "       [  6.1,  65. ],\n",
       "       [  6.5, 130. ],\n",
       "       [  8. ,  79. ],\n",
       "       [  4.8, 112. ],\n",
       "       [  6.9, 139. ],\n",
       "       [  7.3, 137. ],\n",
       "       [  6. , 102. ],\n",
       "       [  6.3, 128. ],\n",
       "       [  7. ,  64. ],\n",
       "       [  8.1, 166. ],\n",
       "       [  6.9,  96. ],\n",
       "       [  5. , 118. ],\n",
       "       [  4. ,  75. ],\n",
       "       [  8.5, 120. ],\n",
       "       [  6.3, 127. ],\n",
       "       [  6.1, 132. ],\n",
       "       [  7.3, 116. ],\n",
       "       [  4.9,  61. ],\n",
       "       [  6.7, 154. ],\n",
       "       [  4.8, 169. ],\n",
       "       [  4.9, 155. ],\n",
       "       [  7.3,  50. ],\n",
       "       [  6.1,  81. ],\n",
       "       [  6.5,  90. ],\n",
       "       [  4.9, 196. ],\n",
       "       [  5.4, 107. ],\n",
       "       [  6.5,  37. ],\n",
       "       [  7.5, 130. ],\n",
       "       [  5.7, 169. ],\n",
       "       [  5.8, 166. ],\n",
       "       [  5.1, 128. ],\n",
       "       [  5.7, 132. ],\n",
       "       [  4.4, 149. ],\n",
       "       [  4.9, 151. ],\n",
       "       [  7.3,  86. ],\n",
       "       [  7.5, 158. ],\n",
       "       [  5.2, 110. ],\n",
       "       [  6.8, 112. ],\n",
       "       [  4.7,  52. ],\n",
       "       [  4.3, 200. ],\n",
       "       [  4.4,  42. ],\n",
       "       [  6.7, 182. ],\n",
       "       [  6.3, 103. ],\n",
       "       [  6.2, 113. ]])"
      ]
     },
     "execution_count": 12,
     "metadata": {},
     "output_type": "execute_result"
    }
   ],
   "source": [
    "X"
   ]
  },
  {
   "cell_type": "code",
   "execution_count": 13,
   "id": "424e7998",
   "metadata": {},
   "outputs": [
    {
     "data": {
      "text/plain": [
       "array([1, 0, 0, 1, 0, 1, 0, 0, 0, 0, 1, 1, 0, 1, 0, 0, 0, 0, 0, 0, 1, 1,\n",
       "       0, 0, 0, 0, 1, 1, 0, 1, 1, 0, 1, 0, 0, 1, 0, 1, 1, 0, 0, 0, 1, 1,\n",
       "       1, 1, 0, 0, 1, 0, 0, 0, 1, 1, 1, 1, 0, 1, 1, 0, 1, 1, 0, 1, 1, 1,\n",
       "       1, 0, 0, 1, 1, 1, 1, 0, 1, 0, 0, 1, 0, 1, 0, 0, 1, 1, 0, 1, 0, 1,\n",
       "       0, 0, 1, 1, 0, 1, 0, 0, 0, 1, 1, 1], dtype=int64)"
      ]
     },
     "execution_count": 13,
     "metadata": {},
     "output_type": "execute_result"
    }
   ],
   "source": [
    "y"
   ]
  },
  {
   "cell_type": "code",
   "execution_count": 14,
   "id": "8b0ff730",
   "metadata": {},
   "outputs": [],
   "source": [
    "from sklearn.preprocessing import StandardScaler\n",
    "sc = StandardScaler()\n",
    "\n",
    "x = sc.fit_transform(X)"
   ]
  },
  {
   "cell_type": "code",
   "execution_count": 15,
   "id": "96d0540d",
   "metadata": {},
   "outputs": [],
   "source": [
    "from sklearn.model_selection import train_test_split\n",
    "\n",
    "X_train, X_test, y_train, y_test = train_test_split(x,y, test_size= 0.2, random_state= 1)"
   ]
  },
  {
   "cell_type": "code",
   "execution_count": 16,
   "id": "c7f23719",
   "metadata": {},
   "outputs": [
    {
     "data": {
      "text/plain": [
       "(80, 2)"
      ]
     },
     "execution_count": 16,
     "metadata": {},
     "output_type": "execute_result"
    }
   ],
   "source": [
    "X_train.shape"
   ]
  },
  {
   "cell_type": "code",
   "execution_count": 17,
   "id": "2930b6d7",
   "metadata": {},
   "outputs": [
    {
     "data": {
      "text/plain": [
       "(20, 2)"
      ]
     },
     "execution_count": 17,
     "metadata": {},
     "output_type": "execute_result"
    }
   ],
   "source": [
    "X_test.shape"
   ]
  },
  {
   "cell_type": "code",
   "execution_count": 18,
   "id": "a5e6a95b",
   "metadata": {},
   "outputs": [
    {
     "data": {
      "text/plain": [
       "(80,)"
      ]
     },
     "execution_count": 18,
     "metadata": {},
     "output_type": "execute_result"
    }
   ],
   "source": [
    "y_train.shape"
   ]
  },
  {
   "cell_type": "code",
   "execution_count": 19,
   "id": "3de20ed2",
   "metadata": {},
   "outputs": [
    {
     "data": {
      "text/plain": [
       "(20,)"
      ]
     },
     "execution_count": 19,
     "metadata": {},
     "output_type": "execute_result"
    }
   ],
   "source": [
    "y_test.shape"
   ]
  },
  {
   "cell_type": "code",
   "execution_count": 20,
   "id": "32158eb3",
   "metadata": {},
   "outputs": [],
   "source": [
    "ann = tf.keras.models.Sequential()"
   ]
  },
  {
   "cell_type": "code",
   "execution_count": 21,
   "id": "1df85e47",
   "metadata": {},
   "outputs": [],
   "source": [
    "ann.add(tf.keras.layers.Dense(units= 6, activation= 'relu'))"
   ]
  },
  {
   "cell_type": "code",
   "execution_count": 22,
   "id": "be2e2d78",
   "metadata": {},
   "outputs": [],
   "source": [
    "ann.add(tf.keras.layers.Dense(units= 6, activation= 'relu'))"
   ]
  },
  {
   "cell_type": "code",
   "execution_count": 23,
   "id": "981c6068",
   "metadata": {},
   "outputs": [],
   "source": [
    "ann.add(tf.keras.layers.Dense(units= 1, activation= 'sigmoid'))"
   ]
  },
  {
   "cell_type": "code",
   "execution_count": 24,
   "id": "1c67e63f",
   "metadata": {},
   "outputs": [],
   "source": [
    "ann.compile(optimizer= 'adam', loss= 'binary_crossentropy', metrics= ['accuracy'])"
   ]
  },
  {
   "cell_type": "code",
   "execution_count": 25,
   "id": "9a28c1d7",
   "metadata": {},
   "outputs": [
    {
     "name": "stdout",
     "output_type": "stream",
     "text": [
      "Epoch 1/100\n",
      "3/3 [==============================] - 1s 8ms/step - loss: 0.6798 - accuracy: 0.4750\n",
      "Epoch 2/100\n",
      "3/3 [==============================] - 0s 3ms/step - loss: 0.6755 - accuracy: 0.4875\n",
      "Epoch 3/100\n",
      "3/3 [==============================] - 0s 2ms/step - loss: 0.6717 - accuracy: 0.4875\n",
      "Epoch 4/100\n",
      "3/3 [==============================] - 0s 1ms/step - loss: 0.6686 - accuracy: 0.4875\n",
      "Epoch 5/100\n",
      "3/3 [==============================] - 0s 6ms/step - loss: 0.6653 - accuracy: 0.4875\n",
      "Epoch 6/100\n",
      "3/3 [==============================] - 0s 0s/step - loss: 0.6623 - accuracy: 0.5000\n",
      "Epoch 7/100\n",
      "3/3 [==============================] - 0s 7ms/step - loss: 0.6592 - accuracy: 0.5125\n",
      "Epoch 8/100\n",
      "3/3 [==============================] - 0s 1ms/step - loss: 0.6560 - accuracy: 0.5375\n",
      "Epoch 9/100\n",
      "3/3 [==============================] - 0s 7ms/step - loss: 0.6531 - accuracy: 0.5375\n",
      "Epoch 10/100\n",
      "3/3 [==============================] - 0s 0s/step - loss: 0.6499 - accuracy: 0.5375\n",
      "Epoch 11/100\n",
      "3/3 [==============================] - 0s 1ms/step - loss: 0.6470 - accuracy: 0.5500\n",
      "Epoch 12/100\n",
      "3/3 [==============================] - 0s 0s/step - loss: 0.6440 - accuracy: 0.5625\n",
      "Epoch 13/100\n",
      "3/3 [==============================] - 0s 1ms/step - loss: 0.6411 - accuracy: 0.5375\n",
      "Epoch 14/100\n",
      "3/3 [==============================] - 0s 6ms/step - loss: 0.6381 - accuracy: 0.5500\n",
      "Epoch 15/100\n",
      "3/3 [==============================] - 0s 2ms/step - loss: 0.6351 - accuracy: 0.5500\n",
      "Epoch 16/100\n",
      "3/3 [==============================] - 0s 7ms/step - loss: 0.6319 - accuracy: 0.5500\n",
      "Epoch 17/100\n",
      "3/3 [==============================] - 0s 0s/step - loss: 0.6291 - accuracy: 0.5625\n",
      "Epoch 18/100\n",
      "3/3 [==============================] - 0s 2ms/step - loss: 0.6260 - accuracy: 0.5750\n",
      "Epoch 19/100\n",
      "3/3 [==============================] - 0s 5ms/step - loss: 0.6230 - accuracy: 0.6000\n",
      "Epoch 20/100\n",
      "3/3 [==============================] - 0s 2ms/step - loss: 0.6198 - accuracy: 0.6250\n",
      "Epoch 21/100\n",
      "3/3 [==============================] - 0s 3ms/step - loss: 0.6168 - accuracy: 0.6500\n",
      "Epoch 22/100\n",
      "3/3 [==============================] - 0s 6ms/step - loss: 0.6136 - accuracy: 0.7000\n",
      "Epoch 23/100\n",
      "3/3 [==============================] - 0s 0s/step - loss: 0.6106 - accuracy: 0.7125\n",
      "Epoch 24/100\n",
      "3/3 [==============================] - 0s 2ms/step - loss: 0.6074 - accuracy: 0.7500\n",
      "Epoch 25/100\n",
      "3/3 [==============================] - 0s 6ms/step - loss: 0.6043 - accuracy: 0.7375\n",
      "Epoch 26/100\n",
      "3/3 [==============================] - 0s 0s/step - loss: 0.6011 - accuracy: 0.7500\n",
      "Epoch 27/100\n",
      "3/3 [==============================] - 0s 1ms/step - loss: 0.5979 - accuracy: 0.7500\n",
      "Epoch 28/100\n",
      "3/3 [==============================] - 0s 3ms/step - loss: 0.5946 - accuracy: 0.7625\n",
      "Epoch 29/100\n",
      "3/3 [==============================] - 0s 0s/step - loss: 0.5913 - accuracy: 0.7750\n",
      "Epoch 30/100\n",
      "3/3 [==============================] - 0s 8ms/step - loss: 0.5880 - accuracy: 0.7875\n",
      "Epoch 31/100\n",
      "3/3 [==============================] - 0s 0s/step - loss: 0.5847 - accuracy: 0.7875\n",
      "Epoch 32/100\n",
      "3/3 [==============================] - 0s 1ms/step - loss: 0.5813 - accuracy: 0.8125\n",
      "Epoch 33/100\n",
      "3/3 [==============================] - 0s 8ms/step - loss: 0.5779 - accuracy: 0.8125\n",
      "Epoch 34/100\n",
      "3/3 [==============================] - 0s 6ms/step - loss: 0.5746 - accuracy: 0.8375\n",
      "Epoch 35/100\n",
      "3/3 [==============================] - 0s 0s/step - loss: 0.5711 - accuracy: 0.8375\n",
      "Epoch 36/100\n",
      "3/3 [==============================] - 0s 2ms/step - loss: 0.5676 - accuracy: 0.8375\n",
      "Epoch 37/100\n",
      "3/3 [==============================] - 0s 7ms/step - loss: 0.5643 - accuracy: 0.8375\n",
      "Epoch 38/100\n",
      "3/3 [==============================] - 0s 0s/step - loss: 0.5607 - accuracy: 0.8625\n",
      "Epoch 39/100\n",
      "3/3 [==============================] - 0s 1ms/step - loss: 0.5573 - accuracy: 0.8625\n",
      "Epoch 40/100\n",
      "3/3 [==============================] - 0s 739us/step - loss: 0.5539 - accuracy: 0.8750\n",
      "Epoch 41/100\n",
      "3/3 [==============================] - 0s 2ms/step - loss: 0.5505 - accuracy: 0.8750\n",
      "Epoch 42/100\n",
      "3/3 [==============================] - 0s 6ms/step - loss: 0.5470 - accuracy: 0.8875\n",
      "Epoch 43/100\n",
      "3/3 [==============================] - 0s 0s/step - loss: 0.5434 - accuracy: 0.8875\n",
      "Epoch 44/100\n",
      "3/3 [==============================] - 0s 3ms/step - loss: 0.5401 - accuracy: 0.8875\n",
      "Epoch 45/100\n",
      "3/3 [==============================] - 0s 5ms/step - loss: 0.5367 - accuracy: 0.8875\n",
      "Epoch 46/100\n",
      "3/3 [==============================] - 0s 0s/step - loss: 0.5333 - accuracy: 0.9000\n",
      "Epoch 47/100\n",
      "3/3 [==============================] - 0s 1ms/step - loss: 0.5299 - accuracy: 0.9000\n",
      "Epoch 48/100\n",
      "3/3 [==============================] - 0s 8ms/step - loss: 0.5265 - accuracy: 0.9000\n",
      "Epoch 49/100\n",
      "3/3 [==============================] - 0s 0s/step - loss: 0.5234 - accuracy: 0.9000\n",
      "Epoch 50/100\n",
      "3/3 [==============================] - 0s 1ms/step - loss: 0.5201 - accuracy: 0.9000\n",
      "Epoch 51/100\n",
      "3/3 [==============================] - 0s 8ms/step - loss: 0.5168 - accuracy: 0.9000\n",
      "Epoch 52/100\n",
      "3/3 [==============================] - 0s 0s/step - loss: 0.5135 - accuracy: 0.9000\n",
      "Epoch 53/100\n",
      "3/3 [==============================] - 0s 0s/step - loss: 0.5103 - accuracy: 0.9000\n",
      "Epoch 54/100\n",
      "3/3 [==============================] - 0s 2ms/step - loss: 0.5072 - accuracy: 0.9000\n",
      "Epoch 55/100\n",
      "3/3 [==============================] - 0s 7ms/step - loss: 0.5040 - accuracy: 0.9000\n",
      "Epoch 56/100\n",
      "3/3 [==============================] - 0s 6ms/step - loss: 0.5008 - accuracy: 0.9000\n",
      "Epoch 57/100\n",
      "3/3 [==============================] - 0s 611us/step - loss: 0.4976 - accuracy: 0.9000\n",
      "Epoch 58/100\n",
      "3/3 [==============================] - 0s 9ms/step - loss: 0.4945 - accuracy: 0.9000\n",
      "Epoch 59/100\n",
      "3/3 [==============================] - 0s 6ms/step - loss: 0.4916 - accuracy: 0.9000\n",
      "Epoch 60/100\n",
      "3/3 [==============================] - 0s 456us/step - loss: 0.4885 - accuracy: 0.9000\n",
      "Epoch 61/100\n",
      "3/3 [==============================] - 0s 2ms/step - loss: 0.4857 - accuracy: 0.9000\n",
      "Epoch 62/100\n",
      "3/3 [==============================] - 0s 6ms/step - loss: 0.4825 - accuracy: 0.9000\n",
      "Epoch 63/100\n",
      "3/3 [==============================] - 0s 2ms/step - loss: 0.4799 - accuracy: 0.9000\n",
      "Epoch 64/100\n",
      "3/3 [==============================] - 0s 2ms/step - loss: 0.4767 - accuracy: 0.9125\n",
      "Epoch 65/100\n",
      "3/3 [==============================] - 0s 0s/step - loss: 0.4740 - accuracy: 0.9125\n",
      "Epoch 66/100\n",
      "3/3 [==============================] - 0s 776us/step - loss: 0.4711 - accuracy: 0.9125\n",
      "Epoch 67/100\n",
      "3/3 [==============================] - 0s 2ms/step - loss: 0.4684 - accuracy: 0.9125\n",
      "Epoch 68/100\n",
      "3/3 [==============================] - 0s 6ms/step - loss: 0.4657 - accuracy: 0.9125\n",
      "Epoch 69/100\n",
      "3/3 [==============================] - 0s 685us/step - loss: 0.4630 - accuracy: 0.9125\n",
      "Epoch 70/100\n",
      "3/3 [==============================] - 0s 8ms/step - loss: 0.4605 - accuracy: 0.9125\n",
      "Epoch 71/100\n",
      "3/3 [==============================] - 0s 6ms/step - loss: 0.4578 - accuracy: 0.9125\n",
      "Epoch 72/100\n",
      "3/3 [==============================] - 0s 0s/step - loss: 0.4551 - accuracy: 0.9250\n",
      "Epoch 73/100\n",
      "3/3 [==============================] - 0s 1ms/step - loss: 0.4527 - accuracy: 0.9375\n",
      "Epoch 74/100\n",
      "3/3 [==============================] - 0s 4ms/step - loss: 0.4502 - accuracy: 0.9375\n",
      "Epoch 75/100\n",
      "3/3 [==============================] - 0s 833us/step - loss: 0.4478 - accuracy: 0.9375\n",
      "Epoch 76/100\n",
      "3/3 [==============================] - 0s 2ms/step - loss: 0.4452 - accuracy: 0.9375\n",
      "Epoch 77/100\n",
      "3/3 [==============================] - 0s 0s/step - loss: 0.4428 - accuracy: 0.9375\n",
      "Epoch 78/100\n",
      "3/3 [==============================] - 0s 1ms/step - loss: 0.4405 - accuracy: 0.9375\n",
      "Epoch 79/100\n",
      "3/3 [==============================] - 0s 6ms/step - loss: 0.4382 - accuracy: 0.9375\n",
      "Epoch 80/100\n",
      "3/3 [==============================] - 0s 2ms/step - loss: 0.4359 - accuracy: 0.9375\n",
      "Epoch 81/100\n",
      "3/3 [==============================] - 0s 2ms/step - loss: 0.4338 - accuracy: 0.9375\n",
      "Epoch 82/100\n",
      "3/3 [==============================] - 0s 2ms/step - loss: 0.4315 - accuracy: 0.9375\n",
      "Epoch 83/100\n",
      "3/3 [==============================] - 0s 2ms/step - loss: 0.4294 - accuracy: 0.9375\n",
      "Epoch 84/100\n",
      "3/3 [==============================] - 0s 0s/step - loss: 0.4273 - accuracy: 0.9375\n",
      "Epoch 85/100\n",
      "3/3 [==============================] - 0s 2ms/step - loss: 0.4252 - accuracy: 0.9375\n",
      "Epoch 86/100\n",
      "3/3 [==============================] - 0s 5ms/step - loss: 0.4231 - accuracy: 0.9375\n",
      "Epoch 87/100\n",
      "3/3 [==============================] - 0s 713us/step - loss: 0.4211 - accuracy: 0.9375\n",
      "Epoch 88/100\n",
      "3/3 [==============================] - 0s 717us/step - loss: 0.4191 - accuracy: 0.9375\n",
      "Epoch 89/100\n",
      "3/3 [==============================] - 0s 7ms/step - loss: 0.4172 - accuracy: 0.9375\n",
      "Epoch 90/100\n",
      "3/3 [==============================] - 0s 287us/step - loss: 0.4152 - accuracy: 0.9375\n",
      "Epoch 91/100\n",
      "3/3 [==============================] - 0s 2ms/step - loss: 0.4132 - accuracy: 0.9375\n",
      "Epoch 92/100\n",
      "3/3 [==============================] - 0s 0s/step - loss: 0.4114 - accuracy: 0.9375\n",
      "Epoch 93/100\n",
      "3/3 [==============================] - 0s 0s/step - loss: 0.4095 - accuracy: 0.9375\n",
      "Epoch 94/100\n",
      "3/3 [==============================] - 0s 8ms/step - loss: 0.4076 - accuracy: 0.9375\n",
      "Epoch 95/100\n",
      "3/3 [==============================] - 0s 0s/step - loss: 0.4058 - accuracy: 0.9375\n",
      "Epoch 96/100\n",
      "3/3 [==============================] - 0s 493us/step - loss: 0.4039 - accuracy: 0.9375\n",
      "Epoch 97/100\n",
      "3/3 [==============================] - 0s 7ms/step - loss: 0.4021 - accuracy: 0.9375\n",
      "Epoch 98/100\n",
      "3/3 [==============================] - 0s 0s/step - loss: 0.4003 - accuracy: 0.9375\n",
      "Epoch 99/100\n",
      "3/3 [==============================] - 0s 8ms/step - loss: 0.3985 - accuracy: 0.9375\n",
      "Epoch 100/100\n",
      "3/3 [==============================] - 0s 0s/step - loss: 0.3968 - accuracy: 0.9375\n"
     ]
    },
    {
     "data": {
      "text/plain": [
       "<keras.src.callbacks.History at 0x2dde58254f0>"
      ]
     },
     "execution_count": 25,
     "metadata": {},
     "output_type": "execute_result"
    }
   ],
   "source": [
    "ann.fit(X_train, y_train, batch_size= 32, epochs= 100)"
   ]
  },
  {
   "cell_type": "code",
   "execution_count": 26,
   "id": "7cd66256",
   "metadata": {},
   "outputs": [
    {
     "name": "stdout",
     "output_type": "stream",
     "text": [
      "1/1 [==============================] - 0s 61ms/step\n",
      "[[ True]]\n"
     ]
    }
   ],
   "source": [
    "print(ann.predict(sc.transform([[6.6, 120.0]]))>0.5)"
   ]
  },
  {
   "cell_type": "code",
   "execution_count": 27,
   "id": "c55e3521",
   "metadata": {},
   "outputs": [
    {
     "name": "stdout",
     "output_type": "stream",
     "text": [
      "1/1 [==============================] - 0s 22ms/step\n",
      "[[0 0]\n",
      " [0 0]\n",
      " [0 0]\n",
      " [0 0]\n",
      " [1 1]\n",
      " [0 0]\n",
      " [0 0]\n",
      " [0 1]\n",
      " [1 1]\n",
      " [1 1]\n",
      " [0 0]\n",
      " [0 0]\n",
      " [0 0]\n",
      " [1 1]\n",
      " [0 0]\n",
      " [1 1]\n",
      " [0 0]\n",
      " [1 1]\n",
      " [0 0]\n",
      " [0 1]]\n"
     ]
    }
   ],
   "source": [
    "y_pred = ann.predict(X_test)\n",
    "\n",
    "y_pred = (y_pred > 0.5)\n",
    "\n",
    "print(np.concatenate((y_pred.reshape(len(y_pred),1), y_test.reshape(len(y_test),1)),1))"
   ]
  },
  {
   "cell_type": "code",
   "execution_count": 28,
   "id": "82b4b195",
   "metadata": {},
   "outputs": [
    {
     "name": "stdout",
     "output_type": "stream",
     "text": [
      "[[12  0]\n",
      " [ 2  6]]\n"
     ]
    },
    {
     "data": {
      "text/plain": [
       "0.9"
      ]
     },
     "execution_count": 28,
     "metadata": {},
     "output_type": "execute_result"
    }
   ],
   "source": [
    "from sklearn.metrics import confusion_matrix, accuracy_score\n",
    "\n",
    "cm = confusion_matrix(y_test, y_pred)\n",
    "\n",
    "print(cm)\n",
    "\n",
    "accuracy_score(y_test, y_pred)"
   ]
  },
  {
   "cell_type": "code",
   "execution_count": null,
   "id": "1ce18965",
   "metadata": {},
   "outputs": [],
   "source": []
  }
 ],
 "metadata": {
  "kernelspec": {
   "display_name": "Python 3 (ipykernel)",
   "language": "python",
   "name": "python3"
  },
  "language_info": {
   "codemirror_mode": {
    "name": "ipython",
    "version": 3
   },
   "file_extension": ".py",
   "mimetype": "text/x-python",
   "name": "python",
   "nbconvert_exporter": "python",
   "pygments_lexer": "ipython3",
   "version": "3.9.12"
  }
 },
 "nbformat": 4,
 "nbformat_minor": 5
}
